{
  "nbformat": 4,
  "nbformat_minor": 0,
  "metadata": {
    "colab": {
      "provenance": [],
      "authorship_tag": "ABX9TyOrzLKGbgZzqDriExS5TgvC",
      "include_colab_link": true
    },
    "kernelspec": {
      "name": "python3",
      "display_name": "Python 3"
    },
    "language_info": {
      "name": "python"
    }
  },
  "cells": [
    {
      "cell_type": "markdown",
      "metadata": {
        "id": "view-in-github",
        "colab_type": "text"
      },
      "source": [
        "<a href=\"https://colab.research.google.com/github/ernestoruizds/DS_C3_SC1_ERNESTO_RUIZ_SANCHEZ/blob/main/RetoEmpleados.ipynb\" target=\"_parent\"><img src=\"https://colab.research.google.com/assets/colab-badge.svg\" alt=\"Open In Colab\"/></a>"
      ]
    },
    {
      "cell_type": "code",
      "source": [
        "# 1. Importa las librerías requeridas\n",
        "import pandas as pd\n",
        "\n",
        "from google.colab import drive\n",
        "from sklearn import linear_model\n",
        "from datetime import datetime\n",
        "from sklearn.decomposition import PCA\n",
        "\n",
        "drive.mount('/content/drive', force_remount=True)\n",
        "\n",
        "# 2. Lee el archivo CSV llamado empleadosRETO.csv y coloca los datos en un frame de Pandas llamado EmpleadosAttrition\n",
        "EmpleadosAttrition = pd.read_csv(\"/content/drive/MyDrive/M15/Reto/empleadosRETO.csv\")\n",
        "\n",
        "# 3. Elimina las columnas que, con alta probabilidad, no tienen relación alguna con la salida.\n",
        "#    Hay algunas columnas que contienen información que no ayuda a definir el desgaste de un empleado, tal es caso de las siguientes:\n",
        "#    EmployeeCount: número de empleados, todos tienen un 1\n",
        "#    EmployeeNumber: ID del empleado, el cual es único para cada empleado\n",
        "#    Over18: mayores de edad, todos dicen “Y”\n",
        "#    StandardHours: horas de trabajo, todos tienen “80”\n",
        "\n",
        "EmpleadosAttrition = EmpleadosAttrition.drop(['EmployeeCount', 'EmployeeNumber', 'Over18', 'StandardHours'],axis=1)\n",
        "\n",
        "# 4. Analiza la información proporcionada, si detectaste que no se cuenta con los años que el empelado lleva en la compañía y parece ser un buen dato.\n",
        "#    Dicha cantidad se puede calcular con la fecha de contratación ‘HiringDate’.\n",
        "# 5. Crea una columna llamada Year y obtén el año de contratación del empleado a partir de su fecha ‘HiringDate’. No se te olvide que debe ser un entero.\n",
        "EmpleadosAttrition['Year'] = EmpleadosAttrition['HiringDate'].str.split(pat='/').str[2].astype(int)\n",
        "\n",
        "# 6. Crea una columna llamada YearsAtCompany que contenga los años que el empleado lleva en la compañía hasta el año 2018.\n",
        "#    Para su cálculo, usa la variable Year que acabas de crear.\n",
        "#EmpleadosAttrition['YearsAtCompany'] = datetime.now().year - EmpleadosAttrition['Year']  # => Esto sería para calcular los años al día de hoy\n",
        "EmpleadosAttrition['YearsAtCompany'] = 2018 - EmpleadosAttrition['Year']\n",
        "\n",
        "# 7. La DistanceFromHome está dada en kilómetros, pero tiene las letras “km” al final y así no puede ser entera.\n",
        "# 8. Renombra la variable DistanceFromHome a DistanceFromHome_km\n",
        "EmpleadosAttrition = EmpleadosAttrition.rename(columns = {'DistanceFromHome': 'DistanceFromHome_km'})\n",
        "\n",
        "# 9. Crea una nueva variable DistanceFromHome que sea entera, es decir, solo con números\n",
        "EmpleadosAttrition['DistanceFromHome'] = EmpleadosAttrition['DistanceFromHome_km'].str.split().str[0].astype(int)\n",
        "\n",
        "# 10. Borra las columnas Year, HiringDate y DistanceFromHome_km debido a que ya no son útiles.\n",
        "EmpleadosAttrition = EmpleadosAttrition.drop(['Year', 'HiringDate', 'DistanceFromHome_km'],axis=1)\n",
        "\n",
        "#11. Aprovechando los ajustes que se están haciendo, la empresa desea saber si todos los departamentos tienen un ingreso promedio similar.\n",
        "#    Genera una nuevo frame llamado SueldoPromedioDepto que contenga el MonthlyIncome promedio por departamento de los empleados\n",
        "#    y colócalo en una variable llamada SueldoPromedio. Esta tabla solo es informativa, no la vas a utilizar en el set de datos que estás construyendo.\n",
        "SueldoPromedioDepto = EmpleadosAttrition.groupby(['Department'])[['MonthlyIncome']].mean().rename(columns = {'MonthlyIncome': 'SueldoPromedio'})\n",
        "SueldoPromedioDepto\n",
        "\n",
        "# 12. La variable MonthlyIncome tiene un valor numérico muy grande comparada con las otras variables.\n",
        "#     Escala dicha variable para que tenga un valor entre 0 y 1.\n",
        "EmpleadosAttrition['MonthlyIncome'] =  (EmpleadosAttrition['MonthlyIncome'] - min(EmpleadosAttrition['MonthlyIncome'])) / (max(EmpleadosAttrition['MonthlyIncome'])-min(EmpleadosAttrition['MonthlyIncome']))\n",
        "\n",
        "# 13. Todo parece indicar que las variables categóricas que quedan sí son importantes para obtener la variable de salida.\n",
        "#     Convierte todas las variables categóricas que quedan a numéricas:\n",
        "# a) BusinessTravel\n",
        "# b) Department\n",
        "# c) EducationField\n",
        "# d) Gender\n",
        "# e) JobRole\n",
        "# f) MaritalStatus\n",
        "# g) Attrition\n",
        "\n",
        "\n",
        "EmpleadosAttrition['BusinessTravel_Code'] = EmpleadosAttrition['BusinessTravel'].astype('category').cat.codes\n",
        "EmpleadosAttrition['Department_Code'] = EmpleadosAttrition['Department'].astype('category').cat.codes\n",
        "EmpleadosAttrition['EducationField_Code'] = EmpleadosAttrition['EducationField'].astype('category').cat.codes\n",
        "EmpleadosAttrition['Gender_Code'] = EmpleadosAttrition['Gender'].astype('category').cat.codes\n",
        "EmpleadosAttrition['JobRole_Code'] = EmpleadosAttrition['JobRole'].astype('category').cat.codes\n",
        "EmpleadosAttrition['MaritalStatus_Code'] = EmpleadosAttrition['MaritalStatus'].astype('category').cat.codes\n",
        "EmpleadosAttrition['Attrition_Code'] = EmpleadosAttrition['Attrition'].astype('category').cat.codes\n",
        "\n",
        "# 14. Ahora debes hacer la evaluación de las variables para quedarte con las mejores.\n",
        "#     Calcula la correlación lineal de cada una de las variables con respecto al Attrition\n",
        "dfCorr = EmpleadosAttrition.drop(['BusinessTravel', 'Department', 'EducationField','Gender','JobRole','MaritalStatus','OverTime','Attrition'],axis=1)\n",
        "# Con esto obtengo la matriz de correlaciones\n",
        "dfCorr.corr()\n",
        "\n",
        "# 15. Selecciona sólo aquellas variables que tengan una correlación mayor o igual a 0.1, dejándolas en otro frame llamado EmpleadosAttritionFinal.\n",
        "#     No olvides mantener la variable de salida Attrition; esto es equivalente a borrar las que no cumplen con el límite.\n",
        "EmpleadosAttritionFinal = EmpleadosAttrition[['Age','EnvironmentSatisfaction','JobInvolvement','JobLevel','JobSatisfaction','MonthlyIncome'\n",
        "                                             ,'TotalWorkingYears','YearsInCurrentRole','YearsAtCompany','MaritalStatus_Code','Attrition_Code']]\n",
        "\n",
        "# 16. Crea una nueva variable llamada EmpleadosAttritionPCA formada por los componentes principales del frame EmpleadosAttritionFinal.\n",
        "#     Recuerda que el resultado del proceso PCA es un numpy array, por lo que, para hacer referencia a una columna,\n",
        "#     por ejemplo, la 0, puedes usar la instrucción EmpleadosAttritionPCA[:,0]).\n",
        "\n",
        "pca = PCA()\n",
        "pca.fit(EmpleadosAttritionFinal)\n",
        "EmpleadosAttritionPCA = pca.components_\n",
        "\n",
        "EmpleadosAttritionPCA[:,0]\n",
        "\n",
        "# 17. Agrega el mínimo número de Componentes Principales en columnas del frame EmpleadosAttritionPCA que logren explicar el 80% de la varianza,\n",
        "# al frame EmpleadosAttritionFinal. Puedes usar la instrucción assign, columna por columna, llamando a cada unaC0, C1, etc., hasta las que vayas a agregar.\n",
        "print(pca.explained_variance_)\n",
        "\n",
        "# Resultados obtenidos:\n",
        "# Age                = 1.22290764e+02  > 80% Sí explica la varianza\n",
        "# EnvironmentSatisfaction = 4.65632154e+01  < 80% No logra explicar la varianza\n",
        "# JobInvolvement     = 1.52078559e+01  < 80% No logra explicar la varianza\n",
        "# JobLevel           = 4.05153475e+00  < 80% No logra explicar la varianza\n",
        "# JobSatisfaction    = 1.25403224e+00  < 80% No logra explicar la varianza\n",
        "# MonthlyIncome      = 1.24105572e+00  < 80% No logra explicar la varianza\n",
        "# TotalWorkingYears  = 5.59071454e-01  < 80% No logra explicar la varianza\n",
        "# YearsInCurrentRole = 5.48644069e-01  < 80% No logra explicar la varianza\n",
        "# YearsAtCompany     = 5.36573142e-01  < 80% No logra explicar la varianza\n",
        "# MaritalStatus_Code = 1.11649551e-01  < 80% No logra explicar la varianza\n",
        "\n",
        "TransformedEmpleadosPCA = pca.transform(EmpleadosAttritionFinal)\n",
        "\n",
        "EmpleadosAttritionFinal = EmpleadosAttritionFinal.assign(AgeC0 = TransformedEmpleadosPCA[:,0])\n",
        "EmpleadosAttritionFinal\n",
        "\n",
        "# 19. Guarda el set de datos que has formado y que tienes en EmpleadosAttritionFinal en un archivo CSV llamado EmpleadosAttritionFinal.csv.\n",
        "# Las últimas columnas que colocaste quedarán después de la variable Attrition, lo cual no importa, pero si gustas lo puedes arreglar antes de escribir el archivo.\n",
        "EmpleadosAttritionFinal = EmpleadosAttritionFinal[['Age','AgeC0','EnvironmentSatisfaction','JobInvolvement','JobLevel','JobSatisfaction','MonthlyIncome'\n",
        "                                                  ,'TotalWorkingYears','YearsInCurrentRole','YearsAtCompany','MaritalStatus_Code','Attrition_Code']]\n",
        "EmpleadosAttritionFinal.to_csv(\"/content/drive/MyDrive/M15/Reto/EmpleadosAttritionFinal.csv\", index = False)\n"
      ],
      "metadata": {
        "colab": {
          "base_uri": "https://localhost:8080/"
        },
        "id": "0bdusv2A6ssd",
        "outputId": "5c7a0c0d-7869-4b59-bbc7-2dd23e8a5270"
      },
      "execution_count": 116,
      "outputs": [
        {
          "output_type": "stream",
          "name": "stdout",
          "text": [
            "Mounted at /content/drive\n",
            "[1.22290764e+02 4.65632154e+01 1.52078559e+01 4.05153475e+00\n",
            " 1.25403224e+00 1.24105572e+00 5.59071454e-01 5.48644069e-01\n",
            " 5.36573142e-01 1.11649551e-01 5.87988634e-03]\n"
          ]
        }
      ]
    },
    {
      "cell_type": "markdown",
      "source": [],
      "metadata": {
        "id": "GXM0C-_Iygl2"
      }
    }
  ]
}